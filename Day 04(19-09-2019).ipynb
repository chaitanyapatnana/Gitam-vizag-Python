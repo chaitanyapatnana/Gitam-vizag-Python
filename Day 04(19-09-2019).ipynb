{
 "cells": [
  {
   "cell_type": "markdown",
   "metadata": {},
   "source": [
    "### String Boolean Function\n",
    "- True or False\n",
    "- islower() -- True if the string have all characters lower case\n",
    "- isupper() -- True if the string have all characters upper case\n",
    "- istitle() -- True if the string in title case\n",
    "- isnumeric() -- True if the string numeric\n",
    "- isalpha() -- True if the string only alphabets\n",
    "- isspace() -- True if the string is space"
   ]
  },
  {
   "cell_type": "code",
   "execution_count": 1,
   "metadata": {},
   "outputs": [
    {
     "name": "stdout",
     "output_type": "stream",
     "text": [
      "True\n",
      "False\n"
     ]
    }
   ],
   "source": [
    "s1 = \"python\"\n",
    "print(s1.islower())\n",
    "print(s1.isupper())"
   ]
  },
  {
   "cell_type": "code",
   "execution_count": 2,
   "metadata": {},
   "outputs": [
    {
     "name": "stdout",
     "output_type": "stream",
     "text": [
      "True\n"
     ]
    }
   ],
   "source": [
    "s1 = \"Python Programming\"\n",
    "print(s1.istitle())"
   ]
  },
  {
   "cell_type": "code",
   "execution_count": 3,
   "metadata": {},
   "outputs": [
    {
     "name": "stdout",
     "output_type": "stream",
     "text": [
      "True\n",
      "False\n"
     ]
    }
   ],
   "source": [
    "s1 = \"12345\"\n",
    "s2 = \"py123\"\n",
    "print(s1.isnumeric())\n",
    "print(s2.isnumeric())"
   ]
  },
  {
   "cell_type": "code",
   "execution_count": 4,
   "metadata": {},
   "outputs": [
    {
     "name": "stdout",
     "output_type": "stream",
     "text": [
      "False\n",
      "True\n"
     ]
    }
   ],
   "source": [
    "s1 = \"Py123456\"\n",
    "s2 = \"Python\"\n",
    "print(s1.isalpha())\n",
    "print(s2.isalpha())"
   ]
  },
  {
   "cell_type": "code",
   "execution_count": 5,
   "metadata": {},
   "outputs": [
    {
     "name": "stdout",
     "output_type": "stream",
     "text": [
      "True\n",
      "False\n"
     ]
    }
   ],
   "source": [
    "s1 = ' '\n",
    "s2 = \"pyt123\"\n",
    "print(s1.isspace())\n",
    "print(s2.isspace())"
   ]
  },
  {
   "cell_type": "markdown",
   "metadata": {},
   "source": [
    "### String Methods\n",
    "- split() -- returns the list of strings seperated by whitespace\n",
    "- replace() -- returns the string replaces by word/character\n",
    "- join() -- Concatination of two strings"
   ]
  },
  {
   "cell_type": "code",
   "execution_count": 9,
   "metadata": {},
   "outputs": [
    {
     "name": "stdout",
     "output_type": "stream",
     "text": [
      "['Python', 'Programming', 'Learn', 'Made', 'Easy']\n"
     ]
    }
   ],
   "source": [
    "s1 = \"Python Programming Learn Made Easy\"\n",
    "li = s1.split() #Default is white space\n",
    "print(li)"
   ]
  },
  {
   "cell_type": "code",
   "execution_count": 8,
   "metadata": {},
   "outputs": [
    {
     "name": "stdout",
     "output_type": "stream",
     "text": [
      "['Python Progr', 'mming Le', 'rn M', 'de E', 'sy']\n"
     ]
    }
   ],
   "source": [
    "s1 = \"Python Programming Learn Made Easy\"\n",
    "li = s1.split('a')\n",
    "print(li)"
   ]
  },
  {
   "cell_type": "code",
   "execution_count": 10,
   "metadata": {},
   "outputs": [
    {
     "name": "stdout",
     "output_type": "stream",
     "text": [
      "Python - Programming - Learn - Made - Easy\n"
     ]
    }
   ],
   "source": [
    "s1 = \"Python Programming Learn Made Easy\"\n",
    "print(s1.replace(' ',' - '))"
   ]
  },
  {
   "cell_type": "code",
   "execution_count": 11,
   "metadata": {},
   "outputs": [
    {
     "name": "stdout",
     "output_type": "stream",
     "text": [
      "Python Progr@mming Le@rn M@de E@sy\n"
     ]
    }
   ],
   "source": [
    "s1 = \"Python Programming Learn Made Easy\"\n",
    "print(s1.replace('a','@'))\n"
   ]
  },
  {
   "cell_type": "code",
   "execution_count": 12,
   "metadata": {},
   "outputs": [
    {
     "name": "stdout",
     "output_type": "stream",
     "text": [
      "p y t h o n\n"
     ]
    }
   ],
   "source": [
    "s1 = \"python\"\n",
    "print(' '.join(s1))"
   ]
  },
  {
   "cell_type": "markdown",
   "metadata": {},
   "source": [
    "### String Formating\n",
    "- Classic Version\n",
    "- Current Version Python"
   ]
  },
  {
   "cell_type": "code",
   "execution_count": 13,
   "metadata": {},
   "outputs": [
    {
     "name": "stdout",
     "output_type": "stream",
     "text": [
      "Python Programming\n"
     ]
    }
   ],
   "source": [
    "# Classic version ( C or C++ )\n",
    "li = (\"Python\",\"Programming\")\n",
    "print('%s %s' % (li[0],li[1]))"
   ]
  },
  {
   "cell_type": "code",
   "execution_count": 14,
   "metadata": {},
   "outputs": [
    {
     "name": "stdout",
     "output_type": "stream",
     "text": [
      "1 2 3 4\n"
     ]
    }
   ],
   "source": [
    "li = [1,2,3,4]\n",
    "print('%d %d %d %d' % (li[0],li[1],li[2],li[3]))"
   ]
  },
  {
   "cell_type": "code",
   "execution_count": 17,
   "metadata": {},
   "outputs": [
    {
     "name": "stdout",
     "output_type": "stream",
     "text": [
      "List Item 0 : Python \n",
      "List Item 1 : Programming\n"
     ]
    }
   ],
   "source": [
    "# .format\n",
    "li = [\"Python\",\"Programming\"]\n",
    "print(\"List Item 0 : {0} \\nList Item 1 : {1}\".format(li[0],li[1]))"
   ]
  },
  {
   "cell_type": "code",
   "execution_count": 18,
   "metadata": {},
   "outputs": [
    {
     "name": "stdout",
     "output_type": "stream",
     "text": [
      "1 2 3 4\n"
     ]
    }
   ],
   "source": [
    "li = [1,2,3,4]\n",
    "print('{0} {1} {2} {3}'.format(li[0],li[1],li[2],li[3]))"
   ]
  },
  {
   "cell_type": "markdown",
   "metadata": {},
   "source": [
    "### Data Structures\n",
    "- List\n",
    "- Touples\n",
    "- Dictionaries"
   ]
  },
  {
   "cell_type": "markdown",
   "metadata": {},
   "source": [
    "### Dictionaries\n",
    "- It Works on concept of Unique Data\n",
    "- Key,value is the unique identifier a value\n",
    "- Each key is seperated from value colon(:)\n",
    "- Each key and value is seperated by comma(,)\n",
    "- Dictionaries are enclosed Curly Brackets({})"
   ]
  },
  {
   "cell_type": "code",
   "execution_count": 19,
   "metadata": {},
   "outputs": [
    {
     "name": "stdout",
     "output_type": "stream",
     "text": [
      "{'Name': 'Gitam', 'EmailId': 'gitamVizag@gmail.com', 'Address': 'Vizag'}\n"
     ]
    }
   ],
   "source": [
    "d1 = {\"Name\":\"Gitam\",\"EmailId\":\"gitamVizag@gmail.com\",\"Address\":\"Vizag\"}\n",
    "print(d1)"
   ]
  },
  {
   "cell_type": "code",
   "execution_count": 21,
   "metadata": {},
   "outputs": [
    {
     "data": {
      "text/plain": [
       "'gitamVizag@gmail.com'"
      ]
     },
     "execution_count": 21,
     "metadata": {},
     "output_type": "execute_result"
    }
   ],
   "source": [
    "d1[\"EmailId\"] #access the specific key value"
   ]
  },
  {
   "cell_type": "code",
   "execution_count": 22,
   "metadata": {},
   "outputs": [],
   "source": [
    "d1[\"EmailId\"] = \"Gitam@gmail.com\""
   ]
  },
  {
   "cell_type": "code",
   "execution_count": 23,
   "metadata": {},
   "outputs": [
    {
     "data": {
      "text/plain": [
       "'Gitam@gmail.com'"
      ]
     },
     "execution_count": 23,
     "metadata": {},
     "output_type": "execute_result"
    }
   ],
   "source": [
    "d1[\"EmailId\"]"
   ]
  },
  {
   "cell_type": "code",
   "execution_count": 27,
   "metadata": {},
   "outputs": [
    {
     "data": {
      "text/plain": [
       "dict_keys(['Name', 'EmailId', 'Address'])"
      ]
     },
     "execution_count": 27,
     "metadata": {},
     "output_type": "execute_result"
    }
   ],
   "source": [
    "d1.keys() # all the keys of dictionary object"
   ]
  },
  {
   "cell_type": "code",
   "execution_count": 28,
   "metadata": {},
   "outputs": [
    {
     "name": "stdout",
     "output_type": "stream",
     "text": [
      "dict_keys(['Name', 'EmailId', 'Address'])\n"
     ]
    }
   ],
   "source": [
    "li = d1.keys() # all the keys of dict object\n",
    "print(li)"
   ]
  },
  {
   "cell_type": "code",
   "execution_count": 26,
   "metadata": {},
   "outputs": [
    {
     "data": {
      "text/plain": [
       "dict_values(['Gitam', 'Gitam@gmail.com', 'Vizag'])"
      ]
     },
     "execution_count": 26,
     "metadata": {},
     "output_type": "execute_result"
    }
   ],
   "source": [
    "d1.values() # all the values of Dict object"
   ]
  },
  {
   "cell_type": "code",
   "execution_count": 29,
   "metadata": {},
   "outputs": [],
   "source": [
    "del d1[\"EmailId\"] # only deletes one key and value"
   ]
  },
  {
   "cell_type": "code",
   "execution_count": 30,
   "metadata": {},
   "outputs": [
    {
     "data": {
      "text/plain": [
       "{'Name': 'Gitam', 'Address': 'Vizag'}"
      ]
     },
     "execution_count": 30,
     "metadata": {},
     "output_type": "execute_result"
    }
   ],
   "source": [
    "d1"
   ]
  },
  {
   "cell_type": "code",
   "execution_count": 33,
   "metadata": {},
   "outputs": [
    {
     "ename": "NameError",
     "evalue": "name 'd1' is not defined",
     "output_type": "error",
     "traceback": [
      "\u001b[1;31m---------------------------------------------------------------------------\u001b[0m",
      "\u001b[1;31mNameError\u001b[0m                                 Traceback (most recent call last)",
      "\u001b[1;32m<ipython-input-33-d274d1aef058>\u001b[0m in \u001b[0;36m<module>\u001b[1;34m\u001b[0m\n\u001b[1;32m----> 1\u001b[1;33m \u001b[1;32mdel\u001b[0m \u001b[0md1\u001b[0m \u001b[1;31m# deletes all the dict objects\u001b[0m\u001b[1;33m\u001b[0m\u001b[1;33m\u001b[0m\u001b[0m\n\u001b[0m",
      "\u001b[1;31mNameError\u001b[0m: name 'd1' is not defined"
     ]
    }
   ],
   "source": [
    "del d1 # deletes all the dict objects"
   ]
  },
  {
   "cell_type": "code",
   "execution_count": 32,
   "metadata": {},
   "outputs": [
    {
     "ename": "NameError",
     "evalue": "name 'd1' is not defined",
     "output_type": "error",
     "traceback": [
      "\u001b[1;31m---------------------------------------------------------------------------\u001b[0m",
      "\u001b[1;31mNameError\u001b[0m                                 Traceback (most recent call last)",
      "\u001b[1;32m<ipython-input-32-2d3a24957153>\u001b[0m in \u001b[0;36m<module>\u001b[1;34m\u001b[0m\n\u001b[1;32m----> 1\u001b[1;33m \u001b[0md1\u001b[0m\u001b[1;33m\u001b[0m\u001b[1;33m\u001b[0m\u001b[0m\n\u001b[0m",
      "\u001b[1;31mNameError\u001b[0m: name 'd1' is not defined"
     ]
    }
   ],
   "source": [
    "d1"
   ]
  },
  {
   "cell_type": "markdown",
   "metadata": {},
   "source": [
    "### Contact Application\n",
    "- Add Contact Details\n",
    "- Search the contact Details\n",
    "- List all the contacts(Merge/import)\n",
    "   - Name 1 : Value\n",
    "   - Name 2 : Value\n",
    "- Modify or Update the contact details\n",
    "- Delete the contact names"
   ]
  },
  {
   "cell_type": "code",
   "execution_count": 36,
   "metadata": {},
   "outputs": [
    {
     "name": "stdout",
     "output_type": "stream",
     "text": [
      "Contact Details are added successfully\n",
      "Contact Details are added successfully\n",
      "Name is already exists\n"
     ]
    }
   ],
   "source": [
    "contacts = {} #empty dict object\n",
    "# let's Create a function to add contact details\n",
    "def addContact(name,phone):\n",
    "    if name not in contacts: \n",
    "        contacts[name] = phone\n",
    "        print('Contact Details are added successfully')\n",
    "    else:\n",
    "        print('Name is already exists')\n",
    "    return\n",
    "addContact('Dinesh',\"9988774455\")\n",
    "addContact('Mukesh',\"2547844225\")\n",
    "addContact('Dinesh',\"9874561523\")\n"
   ]
  },
  {
   "cell_type": "code",
   "execution_count": 39,
   "metadata": {},
   "outputs": [
    {
     "name": "stdout",
     "output_type": "stream",
     "text": [
      "Dinesh : 9988774455\n",
      "Gitam does not present\n",
      "Ajay does not present\n"
     ]
    }
   ],
   "source": [
    "def searchContact(name):\n",
    "    if name in contacts:\n",
    "        print(name,\":\",contacts[name])\n",
    "    else:    \n",
    "        print('{0} does not present'.format(name))\n",
    "        #print('%s does not present' % Namw)\n",
    "    return        \n",
    "searchContact('Dinesh')\n",
    "searchContact('Gitam')\n",
    "searchContact('Ajay')"
   ]
  },
  {
   "cell_type": "code",
   "execution_count": 40,
   "metadata": {},
   "outputs": [
    {
     "name": "stdout",
     "output_type": "stream",
     "text": [
      "3 contacts are added\n"
     ]
    }
   ],
   "source": [
    "#Import new contact details\n",
    "#Merge the previous details with new details\n",
    "def importContacts(newCotacts):\n",
    "    contacts.update(newContacts)\n",
    "    print(len(newContacts.keys()),'contacts are added')\n",
    "    return\n",
    "newContacts = {'Gitam' :9881889695,'Anil' : 8978497828, 'Python': 7889456512}\n",
    "importContacts(newContacts)"
   ]
  },
  {
   "cell_type": "code",
   "execution_count": 41,
   "metadata": {},
   "outputs": [
    {
     "data": {
      "text/plain": [
       "{'Dinesh': '9988774455',\n",
       " 'Mukesh': '2547844225',\n",
       " 'Gitam': 9881889695,\n",
       " 'Anil': 8978497828,\n",
       " 'Python': 7889456512}"
      ]
     },
     "execution_count": 41,
     "metadata": {},
     "output_type": "execute_result"
    }
   ],
   "source": [
    "contacts"
   ]
  },
  {
   "cell_type": "code",
   "execution_count": 43,
   "metadata": {},
   "outputs": [
    {
     "name": "stdout",
     "output_type": "stream",
     "text": [
      "Anil Updated Successfully\n",
      "Naveen Not exists\n"
     ]
    }
   ],
   "source": [
    "def modifyContact(name,phone):\n",
    "    if name in contacts:\n",
    "        contacts[name] = phone\n",
    "        print(name,'Updated Successfully')\n",
    "    else:\n",
    "        print(name,'Not exists')\n",
    "    return\n",
    "modifyContact('Anil',9848022338)\n",
    "modifyContact('Naveen',6548789548)"
   ]
  },
  {
   "cell_type": "code",
   "execution_count": 47,
   "metadata": {},
   "outputs": [
    {
     "name": "stdout",
     "output_type": "stream",
     "text": [
      "Vinay Not Present\n",
      "Gitam Deleted Successfully\n"
     ]
    }
   ],
   "source": [
    "def deleteContact(name):\n",
    "    if name in contacts:\n",
    "        del contacts[name]\n",
    "        print(name,'Deleted Successfully')\n",
    "    else:\n",
    "        print(name,'Not Present')\n",
    "    return\n",
    "deleteContact('Vinay')\n",
    "deleteContact('Gitam')"
   ]
  },
  {
   "cell_type": "code",
   "execution_count": 46,
   "metadata": {},
   "outputs": [
    {
     "data": {
      "text/plain": [
       "{'Dinesh': '9988774455',\n",
       " 'Mukesh': '2547844225',\n",
       " 'Gitam': 9881889695,\n",
       " 'Anil': 9848022338,\n",
       " 'Python': 7889456512}"
      ]
     },
     "execution_count": 46,
     "metadata": {},
     "output_type": "execute_result"
    }
   ],
   "source": [
    "contacts\n"
   ]
  },
  {
   "cell_type": "code",
   "execution_count": 48,
   "metadata": {},
   "outputs": [
    {
     "data": {
      "text/plain": [
       "{'Dinesh': '9988774455',\n",
       " 'Mukesh': '2547844225',\n",
       " 'Anil': 9848022338,\n",
       " 'Python': 7889456512}"
      ]
     },
     "execution_count": 48,
     "metadata": {},
     "output_type": "execute_result"
    }
   ],
   "source": [
    "contacts"
   ]
  },
  {
   "cell_type": "markdown",
   "metadata": {},
   "source": [
    "### Tuples\n",
    "- Tuples enclosed with Parenthesis()"
   ]
  },
  {
   "cell_type": "markdown",
   "metadata": {},
   "source": [
    "### Differences between Tuples and List\n",
    "- List are mutable -- can be changed/modify\n",
    "  - Read and write the data\n",
    "- Tuples are immutable -- can't be changed/ modified\n",
    "  - read data only"
   ]
  },
  {
   "cell_type": "code",
   "execution_count": 49,
   "metadata": {},
   "outputs": [
    {
     "name": "stdout",
     "output_type": "stream",
     "text": [
      "(1, 2, 3, 4, 5)\n"
     ]
    }
   ],
   "source": [
    "t1 = (1,2,3,4,5)\n",
    "print(t1)"
   ]
  },
  {
   "cell_type": "code",
   "execution_count": 51,
   "metadata": {},
   "outputs": [
    {
     "name": "stdout",
     "output_type": "stream",
     "text": [
      "(2, 1)\n"
     ]
    }
   ],
   "source": [
    "t1 =(1,2,3,4)\n",
    "print(t1[1::-1])"
   ]
  },
  {
   "cell_type": "markdown",
   "metadata": {},
   "source": [
    "### StandardLibraries\n",
    "- Regular Expressions\n",
    "  - To validate the Indian Mobile\n",
    "  - To validate the EmailId\n",
    "  - To validate the Username\n",
    "  - To validate the Password\n",
    "- Understanding the regular Expressions\n",
    "  - [0-9] -- Any digit Matching\n",
    "  - [a-z] -- Any lower case matching\n",
    "  - [a-Z] -- Any Upper case matching\n",
    "  - cap symbol is used to represent the start of regular expression\n",
    "  - Dollar symbol is used to represent the end of regular expression"
   ]
  },
  {
   "cell_type": "code",
   "execution_count": null,
   "metadata": {},
   "outputs": [],
   "source": [
    "#Regular Expression for username\n",
    "#username -- Should contains lower and upper case char\n",
    "#Length -- Min 5 Max 12\n",
    "def validateUsername(s):\n",
    "    pattern = '^[a-zA-Z]'"
   ]
  },
  {
   "cell_type": "markdown",
   "metadata": {},
   "source": [
    "### Regular Expression\n",
    "- Regular Expression for RollNumber\n",
    "  - Example : 15121A0501 #valid\n",
    "  - Example : 16121A0574 #not valid\n",
    "- Regular expression for password\n",
    "  - Parameters - Len min 6 max 10\n",
    "  - Accept Lower case, upper case,Digits and spl (@,!,#)\n",
    "  - Example : Pass123@21 #valid\n",
    "  - Example : Pass12*21 #not valid"
   ]
  },
  {
   "cell_type": "markdown",
   "metadata": {},
   "source": [
    "### Regular Expression for Indian Mobile\n",
    "- 10 digit number\n",
    "  -First Number is starts from[6-9]\n",
    "  -Rest of 9 numbers is between [0-9]\n",
    "        - Example : 9874589651 #True\n",
    "        - Example : 1235477899 #false\n",
    "- 11 digit number\n",
    "   - First number can be 0\n",
    "   - second number can be [6-9]\n",
    "   - Rest of 9numbers is between [0-9]\n",
    "         - Example : 098745845622 #true\n",
    "         - Example : 998545115356 #false\n",
    "- 13 digit number\n",
    "    - First number can be +\n",
    "    - Second number 9\n",
    "    - Third number 1\n",
    "    - Fourth number[6-9]\n",
    "    - Rest of Numbers[0-9]\n",
    "           - Example : +919052302648 #true\n",
    "           \n",
    "           "
   ]
  },
  {
   "cell_type": "code",
   "execution_count": null,
   "metadata": {},
   "outputs": [],
   "source": [
    "# rule 1 : ^[6-9][0-9]{9}$\n",
    "# rule 2 : ^[0][6-9][0-9]{9}$\n",
    "# rule 3 : ^[+][9][1][6-9][0-9]{9}$\n"
   ]
  },
  {
   "cell_type": "code",
   "execution_count": 55,
   "metadata": {},
   "outputs": [
    {
     "data": {
      "text/plain": [
       "True"
      ]
     },
     "execution_count": 55,
     "metadata": {},
     "output_type": "execute_result"
    }
   ],
   "source": [
    "import re\n",
    "def validateIndianPhone(n):\n",
    "    pattern = '^[6-9][0-9]{9}$^[0][6-9][0-9]{9}$|^[+][9][1][6-9][0-9]{9}$'\n",
    "    n = str(n)\n",
    "    if re.match(pattern,n):\n",
    "        return True\n",
    "    return False\n",
    "validateIndianPhone('+918688188918') #True"
   ]
  },
  {
   "cell_type": "markdown",
   "metadata": {},
   "source": [
    "### Validate the EmailID\n",
    "  - Example : Username@DomainName.extension\n",
    "  - Example : dsps@gmail.com\n",
    "  - Username :\n",
    "     - Len of string will be [6-15]\n",
    "     - No spl char except underscore(_)\n",
    "     - Username should not begins with underscore(_)\n",
    "     - ALl char set digits, lower case and upper case\n",
    "           - Example : Anil_1889\n",
    " - DomainName : \n",
    "    - Len of string will be[3-18]\n",
    "    - No Spls Char\n",
    "    - char set will be digits, lower case and upper case\n",
    "          - Example : gmail, hotmail,ymail,rediff and etc...\n",
    " - Extensions :\n",
    "     - len of string will be [2-4]\n",
    "     - No spls char\n",
    "     - char set will lower case char\n",
    "         - Example : com in au uk"
   ]
  },
  {
   "cell_type": "code",
   "execution_count": 56,
   "metadata": {},
   "outputs": [],
   "source": [
    "#username RE : [0-9a-zA-Z][0-9a-zA-Z_.]{5,14}\n",
    "#Domain name RE : [a-z0-9]{3,18}\n",
    "#Extension RE : [a-z]{2,4}\n",
    "#EmailID RE : '^[0-9a-zA-Z][0-9a-zA-z_.]{5,14}[@][a-z0-9]{3,18}[.][a-z]{2,4}$'"
   ]
  },
  {
   "cell_type": "code",
   "execution_count": 59,
   "metadata": {},
   "outputs": [
    {
     "data": {
      "text/plain": [
       "True"
      ]
     },
     "execution_count": 59,
     "metadata": {},
     "output_type": "execute_result"
    }
   ],
   "source": [
    "def validateEmail(email):\n",
    "    pattern = '^[0-9a-zA-Z][0-9a-zA-z_.]{5,14}[@][a-z0-9]{3,18}[.][a-z]{2,4}$'\n",
    "    if re.match(pattern,email):\n",
    "        return True\n",
    "    return False\n",
    "validateEmail('anilkumar1889@hotmail.com')"
   ]
  },
  {
   "cell_type": "markdown",
   "metadata": {},
   "source": [
    "### Package,Module and Sub Package\n",
    "#### Package\n",
    "     - A collection of modules (single python file.py)\n",
    "#### Module\n",
    "     - A single python+file contains group of fuction\n",
    "     - package -> sub package -> modules -> functions -> statements\n",
    "     - import eyword is used to import the external library package into the python program"
   ]
  },
  {
   "cell_type": "code",
   "execution_count": 60,
   "metadata": {},
   "outputs": [
    {
     "data": {
      "text/plain": [
       "123"
      ]
     },
     "execution_count": 60,
     "metadata": {},
     "output_type": "execute_result"
    }
   ],
   "source": [
    "import math\n",
    "math.floor(123.456)"
   ]
  },
  {
   "cell_type": "code",
   "execution_count": 64,
   "metadata": {},
   "outputs": [
    {
     "data": {
      "text/plain": [
       "124"
      ]
     },
     "execution_count": 64,
     "metadata": {},
     "output_type": "execute_result"
    }
   ],
   "source": [
    "import math\n",
    "math.ceil(123.456)"
   ]
  },
  {
   "cell_type": "code",
   "execution_count": 65,
   "metadata": {},
   "outputs": [
    {
     "data": {
      "text/plain": [
       "3628800"
      ]
     },
     "execution_count": 65,
     "metadata": {},
     "output_type": "execute_result"
    }
   ],
   "source": [
    "from math import factorial as fact #will import only specific function\n",
    "# as fact alias name\n",
    "fact(10)"
   ]
  },
  {
   "cell_type": "code",
   "execution_count": 66,
   "metadata": {},
   "outputs": [
    {
     "data": {
      "text/plain": [
       "5"
      ]
     },
     "execution_count": 66,
     "metadata": {},
     "output_type": "execute_result"
    }
   ],
   "source": [
    "from math import gcd as gcd\n",
    "gcd(10,15)"
   ]
  },
  {
   "cell_type": "code",
   "execution_count": 76,
   "metadata": {},
   "outputs": [
    {
     "name": "stdout",
     "output_type": "stream",
     "text": [
      "2 19 8 95 87 91 78 29 4 24 "
     ]
    }
   ],
   "source": [
    "# Import random package\n",
    "import random\n",
    "#function to generate the N numbers in given range\n",
    "def generateRandNum(n,lb,ub):\n",
    "    for i in range(0,n):\n",
    "        print(random.randint(lb,ub),end=' ')\n",
    "    return\n",
    "generateRandNum(10,0,100)"
   ]
  },
  {
   "cell_type": "code",
   "execution_count": null,
   "metadata": {},
   "outputs": [],
   "source": []
  },
  {
   "cell_type": "code",
   "execution_count": null,
   "metadata": {},
   "outputs": [],
   "source": []
  }
 ],
 "metadata": {
  "kernelspec": {
   "display_name": "Python 3",
   "language": "python",
   "name": "python3"
  },
  "language_info": {
   "codemirror_mode": {
    "name": "ipython",
    "version": 3
   },
   "file_extension": ".py",
   "mimetype": "text/x-python",
   "name": "python",
   "nbconvert_exporter": "python",
   "pygments_lexer": "ipython3",
   "version": "3.7.3"
  }
 },
 "nbformat": 4,
 "nbformat_minor": 2
}
