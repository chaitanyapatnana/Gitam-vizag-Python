{
 "cells": [
  {
   "cell_type": "code",
   "execution_count": 1,
   "metadata": {},
   "outputs": [
    {
     "name": "stdout",
     "output_type": "stream",
     "text": [
      "py\n",
      "on\n",
      "hon\n",
      "tho\n",
      "ytho\n"
     ]
    }
   ],
   "source": [
    "s1 = \"python\"\n",
    "print(s1[0:2]) #access the first two characters\n",
    "print(s1[-2:]) #access the last two characters\n",
    "print(s1[3:]) #access the character from 3 till last\n",
    "print(s1[2:5]) #access the character from 2 to 5\n",
    "print(s1[1:-1]) #all the characters except 1st and last character"
   ]
  },
  {
   "cell_type": "code",
   "execution_count": 4,
   "metadata": {},
   "outputs": [
    {
     "data": {
      "text/plain": [
       "'nohtyp'"
      ]
     },
     "execution_count": 4,
     "metadata": {},
     "output_type": "execute_result"
    }
   ],
   "source": [
    "s1[-1::-1] #reverse the string"
   ]
  },
  {
   "cell_type": "code",
   "execution_count": 5,
   "metadata": {},
   "outputs": [
    {
     "data": {
      "text/plain": [
       "'pto'"
      ]
     },
     "execution_count": 5,
     "metadata": {},
     "output_type": "execute_result"
    }
   ],
   "source": [
    "#access the characters in string alternate\n",
    "#python -- pto\n",
    "s1[::2]"
   ]
  },
  {
   "cell_type": "code",
   "execution_count": 6,
   "metadata": {},
   "outputs": [
    {
     "data": {
      "text/plain": [
       "'nhy'"
      ]
     },
     "execution_count": 6,
     "metadata": {},
     "output_type": "execute_result"
    }
   ],
   "source": [
    "#access the alternate characters from reverse direction\n",
    "#python --nhy\n",
    "s1[::-2]"
   ]
  },
  {
   "cell_type": "code",
   "execution_count": 7,
   "metadata": {},
   "outputs": [
    {
     "data": {
      "text/plain": [
       "'ph'"
      ]
     },
     "execution_count": 7,
     "metadata": {},
     "output_type": "execute_result"
    }
   ],
   "source": [
    "s1[::3]"
   ]
  },
  {
   "cell_type": "markdown",
   "metadata": {},
   "source": [
    "### Functions with string Opertions\n"
   ]
  },
  {
   "cell_type": "code",
   "execution_count": 9,
   "metadata": {},
   "outputs": [
    {
     "data": {
      "text/plain": [
       "'nohtyp'"
      ]
     },
     "execution_count": 9,
     "metadata": {},
     "output_type": "execute_result"
    }
   ],
   "source": [
    "#reverse thr string\n",
    "def reverseStr(s):\n",
    "    return s[-1::-1]\n",
    "reverseStr('python')"
   ]
  },
  {
   "cell_type": "code",
   "execution_count": 10,
   "metadata": {},
   "outputs": [
    {
     "name": "stdout",
     "output_type": "stream",
     "text": [
      "False\n",
      "True\n"
     ]
    }
   ],
   "source": [
    "#to check the given string is palindrome or not a palindrome\n",
    "def isPalindrome(s):\n",
    "    if s == s[-1::-1]:\n",
    "        return True\n",
    "    return False\n",
    "print(isPalindrome('python'))\n",
    "print(isPalindrome('pop'))"
   ]
  },
  {
   "cell_type": "code",
   "execution_count": 12,
   "metadata": {},
   "outputs": [
    {
     "name": "stdout",
     "output_type": "stream",
     "text": [
      "P T "
     ]
    }
   ],
   "source": [
    "#Function to print the upper case characters\n",
    "#Example : PyThon -- P T\n",
    "#ASCII\n",
    "#A - Z : 65 - 90\n",
    "#a -z : 97 - 122\n",
    "#0 - 9 : 48 - 57\n",
    "#space : 32\n",
    "def printUpper(s):\n",
    "    for i in range(len(s)):\n",
    "        if ord(s[i]) >= 65 and ord(s[i]) <= 90:\n",
    "            print(s[i],end=' ')\n",
    "    return\n",
    "printUpper('PyThon')  # P T  \n",
    "    "
   ]
  },
  {
   "cell_type": "code",
   "execution_count": 13,
   "metadata": {},
   "outputs": [
    {
     "data": {
      "text/plain": [
       "'sameCount'"
      ]
     },
     "execution_count": 13,
     "metadata": {},
     "output_type": "execute_result"
    }
   ],
   "source": [
    "#function to return the output as \"same count\" or \"programming\"\n",
    "#same count -- lower case and upper case char have same count\n",
    "#programming -- count of lower and upper case is not same\n",
    "\n",
    "#example #1 : PyThOn -- 3 P T O\n",
    "#                    -- 3 y h n\n",
    "#output : SameCount\n",
    "\n",
    "#example #2 : PythoN -- 2 P N\n",
    "#                    -- 4 y t h o\n",
    "#output : Programming\n",
    "\n",
    "def findCharCount(s):\n",
    "    cntUpper = 0\n",
    "    cntLower = 0\n",
    "    for i in range(len(s)):\n",
    "        if ord(s[i]) >= 65 and ord(s[i]) <= 90:\n",
    "            cntUpper += 1\n",
    "        elif ord(s[i]) >= 97 and ord(s[i]) <= 122:\n",
    "            cntLower += 1\n",
    "    if cntLower == cntUpper:\n",
    "        return \"sameCount\"\n",
    "    return \"Programming\"\n",
    "findCharCount('PyThoN')"
   ]
  },
  {
   "cell_type": "code",
   "execution_count": 16,
   "metadata": {},
   "outputs": [
    {
     "name": "stdout",
     "output_type": "stream",
     "text": [
      "1 8 8 9 "
     ]
    }
   ],
   "source": [
    "#function to extract the digits  from the string\n",
    "#example #1\n",
    "#input : Appli18cation89\n",
    "#Output : 1 8 8 9\n",
    "\n",
    "def extractDigits(s):\n",
    "    for i in range(len(s)):\n",
    "        if ord(s[i]) >= 48 and ord(s[i]) <= 57:\n",
    "            print(s[i],end=' ')\n",
    "    return\n",
    "extractDigits('Appli18cation89')    "
   ]
  },
  {
   "cell_type": "code",
   "execution_count": 27,
   "metadata": {},
   "outputs": [
    {
     "data": {
      "text/plain": [
       "26"
      ]
     },
     "execution_count": 27,
     "metadata": {},
     "output_type": "execute_result"
    }
   ],
   "source": [
    "#Function to add the digits of the string\n",
    "#Example #1\n",
    "#Input : Appli18cation89\n",
    "#Output : 26 (1+8+8+9)\n",
    "\n",
    "def addDigits(s):\n",
    "    sum = 0\n",
    "    for i in range(len(s)):\n",
    "        if ord(s[i]) >= 48 and ord(s[i]) <= 57:\n",
    "            sum = sum + int(s[i])\n",
    "    return sum \n",
    "addDigits('Appli18cation89')"
   ]
  },
  {
   "cell_type": "code",
   "execution_count": 30,
   "metadata": {},
   "outputs": [
    {
     "name": "stdout",
     "output_type": "stream",
     "text": [
      "MADE"
     ]
    }
   ],
   "source": [
    "#function to specific word in Upper case\n",
    "#Example #1\n",
    "#Input : Python Made Easy\n",
    "#output : MADE\n",
    "\n",
    "#example #2 :\n",
    "#Input : Learn Python Strings\n",
    "#output : PYTHON\n",
    "\n",
    "def wordUpperCase(s):\n",
    "    cntSpace = 0\n",
    "    for i in range(len(s)):\n",
    "        if ord(s[i]) == 32:\n",
    "            cntSpace += 1\n",
    "        if cntSpace == 1:\n",
    "            if ord(s[i]) >= 65 and ord(s[i]) <= 90:\n",
    "                print(s[i],end='')\n",
    "            elif ord(s[i]) >= 97 and ord(s[i]) <= 122:\n",
    "                print(chr(ord(s[i])-32),end='')\n",
    "        if cntSpace == 2:\n",
    "            break\n",
    "    return\n",
    "wordUpperCase('Python Made Easy')"
   ]
  },
  {
   "cell_type": "markdown",
   "metadata": {},
   "source": [
    "### LIst\n",
    "- One of the data structure in Python\n",
    "- Data Structure means to store, sort and search Options\n",
    "- It's one Common Data structure in python, the items of list seperated by comma and enclosed in square brackets[]\n",
    "   #### Example\n",
    "     - list1 = [1,2,3,4,5]\n",
    "     - list2 = [\"Gitam\",1.2,1.89,\"Vizag\"]\n"
   ]
  },
  {
   "cell_type": "code",
   "execution_count": 32,
   "metadata": {},
   "outputs": [
    {
     "name": "stdout",
     "output_type": "stream",
     "text": [
      "[1, 8, 16, 9, 2]\n",
      "1\n",
      "8\n",
      "2\n",
      "9\n",
      "[16, 9, 2]\n"
     ]
    }
   ],
   "source": [
    "li = [1,8,16,9,2]\n",
    "print(li)  #will print the all the list items\n",
    "print(li[0]) #access the first item of the list\n",
    "print(li[1]) #access the secomd item of the list\n",
    "print(li[-1]) #access the last item of the list\n",
    "print(li[-2]) #access the last second item of the list\n",
    "print(li[2:])"
   ]
  },
  {
   "cell_type": "code",
   "execution_count": 34,
   "metadata": {},
   "outputs": [
    {
     "name": "stdout",
     "output_type": "stream",
     "text": [
      "['Gitam', 1582, 2018, 2019, 'Vizag']\n",
      "['Gitam', 1234, 2018, 2019, 'Vizag']\n"
     ]
    }
   ],
   "source": [
    "li = [\"Gitam\",1582,2018,2019,\"Vizag\"]\n",
    "print(li)\n",
    "li[1] =1234\n",
    "print(li)\n"
   ]
  },
  {
   "cell_type": "code",
   "execution_count": 35,
   "metadata": {},
   "outputs": [
    {
     "name": "stdout",
     "output_type": "stream",
     "text": [
      "['Gitam', 1234, 2018, 'Vizag']\n"
     ]
    }
   ],
   "source": [
    "#delete the list from the list\n",
    "del li[3]\n",
    "print(li)"
   ]
  },
  {
   "cell_type": "code",
   "execution_count": 36,
   "metadata": {},
   "outputs": [
    {
     "name": "stdout",
     "output_type": "stream",
     "text": [
      "5\n",
      "[1, 2, 3, 4, 5, 1, 2, 3, 4, 5]\n",
      "True\n",
      "False\n",
      "1 2 3 4 5 \n",
      "1 2 3 4 5 "
     ]
    }
   ],
   "source": [
    "#Basic list Operations\n",
    "li = [1,2,3,4,5]\n",
    "# len of the list\n",
    "print(len(li))\n",
    "# List Repitation\n",
    "print(li * 2)\n",
    "#to know certain item is present in the list or not\n",
    "print(4 in li)\n",
    "print(10 in li)\n",
    "#access the list items from the iterations''\n",
    "# 1 way to define\n",
    "for i in range(len(li)):\n",
    "    print(li[i],end=' ')\n",
    "print()\n",
    "#2 way to print the list items\n",
    "for i in li:\n",
    "    print(i,end=' ')"
   ]
  },
  {
   "cell_type": "code",
   "execution_count": 37,
   "metadata": {},
   "outputs": [
    {
     "name": "stdout",
     "output_type": "stream",
     "text": [
      "25\n",
      "1\n",
      "56\n",
      "11\n"
     ]
    }
   ],
   "source": [
    "#Basic List Fucntions\n",
    "li = [1,9,16,25,5]\n",
    "print(max(li))\n",
    "print(min(li))\n",
    "print(sum(li))\n",
    "print(sum(li)//len(li))"
   ]
  },
  {
   "cell_type": "code",
   "execution_count": null,
   "metadata": {},
   "outputs": [],
   "source": []
  }
 ],
 "metadata": {
  "kernelspec": {
   "display_name": "Python 3",
   "language": "python",
   "name": "python3"
  },
  "language_info": {
   "codemirror_mode": {
    "name": "ipython",
    "version": 3
   },
   "file_extension": ".py",
   "mimetype": "text/x-python",
   "name": "python",
   "nbconvert_exporter": "python",
   "pygments_lexer": "ipython3",
   "version": "3.7.3"
  }
 },
 "nbformat": 4,
 "nbformat_minor": 2
}
